{
 "cells": [
  {
   "cell_type": "code",
   "execution_count": 18,
   "id": "alpine-screw",
   "metadata": {},
   "outputs": [],
   "source": [
    "# Package imports\n",
    "import pandas as pd\n",
    "import numpy as np\n",
    "import matplotlib.pyplot as plt\n",
    "from sklearn.linear_model import LinearRegression\n",
    "from sklearn.metrics import mean_squared_error"
   ]
  },
  {
   "cell_type": "code",
   "execution_count": 20,
   "id": "sixth-motel",
   "metadata": {},
   "outputs": [
    {
     "name": "stdout",
     "output_type": "stream",
     "text": [
      "   fixed acidity  volatile acidity  citric acid  residual sugar  chlorides  \\\n",
      "0            7.4              0.70         0.00             1.9      0.076   \n",
      "1            7.8              0.88         0.00             2.6      0.098   \n",
      "2            7.8              0.76         0.04             2.3      0.092   \n",
      "3           11.2              0.28         0.56             1.9      0.075   \n",
      "4            7.4              0.70         0.00             1.9      0.076   \n",
      "\n",
      "   free sulfur dioxide  total sulfur dioxide  density    pH  sulphates  \\\n",
      "0                 11.0                  34.0   0.9978  3.51       0.56   \n",
      "1                 25.0                  67.0   0.9968  3.20       0.68   \n",
      "2                 15.0                  54.0   0.9970  3.26       0.65   \n",
      "3                 17.0                  60.0   0.9980  3.16       0.58   \n",
      "4                 11.0                  34.0   0.9978  3.51       0.56   \n",
      "\n",
      "   alcohol  quality  type  \n",
      "0      9.4        5     1  \n",
      "1      9.8        5     1  \n",
      "2      9.8        5     1  \n",
      "3      9.8        6     1  \n",
      "4      9.4        5     1  \n"
     ]
    }
   ],
   "source": [
    "red = pd.read_csv(\"winequality-red.csv\", sep=';') #if the wine is red it is set as 1, else 0\n",
    "white = pd.read_csv(\"winequality-white.csv\", sep=';') \n",
    "red[\"type\"] = np.ones(len(red[\"fixed acidity\"]),dtype='int64')#assigning 1 to red wines\n",
    "white[\"type\"] = np.zeros(len(white[\"fixed acidity\"]),dtype='int64')#assigning 0 to white wines\n",
    "data = pd.concat([red, white])\n",
    "print(data.head())\n"
   ]
  },
  {
   "cell_type": "code",
   "execution_count": null,
   "id": "blind-narrow",
   "metadata": {},
   "outputs": [],
   "source": [
    "y = data['quality']\n",
    "x = df[['fixed acidity','volatile acidity','citric acid', 'residual sugar', 'chlorides', 'free sulfur dioxide','total sulfur dioxide' 'density', 'pH', 'sulphates', 'alcohol', 'type']]"
   ]
  }
 ],
 "metadata": {
  "kernelspec": {
   "display_name": "Python 3",
   "language": "python",
   "name": "python3"
  },
  "language_info": {
   "codemirror_mode": {
    "name": "ipython",
    "version": 3
   },
   "file_extension": ".py",
   "mimetype": "text/x-python",
   "name": "python",
   "nbconvert_exporter": "python",
   "pygments_lexer": "ipython3",
   "version": "3.7.9"
  }
 },
 "nbformat": 4,
 "nbformat_minor": 5
}

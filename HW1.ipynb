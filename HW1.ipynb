{
 "cells": [
  {
   "cell_type": "code",
   "execution_count": 31,
   "id": "american-house",
   "metadata": {},
   "outputs": [],
   "source": [
    "# Package imports\n",
    "import pandas as pd\n",
    "import numpy as np\n",
    "import matplotlib.pyplot as plt\n",
    "from sklearn.linear_model import LinearRegression\n",
    "from sklearn.metrics import mean_squared_error"
   ]
  },
  {
   "cell_type": "code",
   "execution_count": 32,
   "id": "tracked-bulgaria",
   "metadata": {},
   "outputs": [],
   "source": [
    "red = pd.read_csv(\"winequality-red.csv\", sep=';') #if the wine is red it is set as 1, else 0\n",
    "white = pd.read_csv(\"winequality-white.csv\", sep=';') \n",
    "red[\"type\"] = np.ones(len(red[\"fixed acidity\"]),dtype='int64')#assigning 1 to red wines\n",
    "white[\"type\"] = np.zeros(len(white[\"fixed acidity\"]),dtype='int64')#assigning 0 to white wines\n",
    "data = pd.concat([red, white])\n"
   ]
  },
  {
   "cell_type": "code",
   "execution_count": 33,
   "id": "centered-france",
   "metadata": {},
   "outputs": [],
   "source": [
    "y = data['quality']\n",
    "x = data[['fixed acidity','volatile acidity','citric acid', 'residual sugar', 'chlorides', 'free sulfur dioxide','total sulfur dioxide', 'density', 'pH', 'sulphates', 'alcohol', 'type']]\n"
   ]
  },
  {
   "cell_type": "code",
   "execution_count": 34,
   "id": "efficient-syndication",
   "metadata": {},
   "outputs": [
    {
     "data": {
      "text/plain": [
       "0.5363623573886556"
      ]
     },
     "execution_count": 34,
     "metadata": {},
     "output_type": "execute_result"
    }
   ],
   "source": [
    "linear_regress = LinearRegression()\n",
    "linear_regress.fit(x,y)\n",
    "y_pred = linear_regress.predict(x)\n",
    "mean_squared_error(y, y_pred)\n"
   ]
  },
  {
   "cell_type": "code",
   "execution_count": null,
   "id": "nonprofit-penetration",
   "metadata": {},
   "outputs": [],
   "source": []
  }
 ],
 "metadata": {
  "kernelspec": {
   "display_name": "Python 3",
   "language": "python",
   "name": "python3"
  },
  "language_info": {
   "codemirror_mode": {
    "name": "ipython",
    "version": 3
   },
   "file_extension": ".py",
   "mimetype": "text/x-python",
   "name": "python",
   "nbconvert_exporter": "python",
   "pygments_lexer": "ipython3",
   "version": "3.7.9"
  }
 },
 "nbformat": 4,
 "nbformat_minor": 5
}
